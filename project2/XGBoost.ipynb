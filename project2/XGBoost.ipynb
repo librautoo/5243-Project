{
 "cells": [
  {
   "cell_type": "code",
   "execution_count": 1,
   "metadata": {},
   "outputs": [
    {
     "name": "stderr",
     "output_type": "stream",
     "text": [
      "c:\\Users\\86177\\Anaconda3\\lib\\site-packages\\numpy\\_distributor_init.py:32: UserWarning: loaded more than 1 DLL from .libs:\n",
      "c:\\Users\\86177\\Anaconda3\\lib\\site-packages\\numpy\\.libs\\libopenblas.WCDJNK7YVMPZQ2ME2ZZHJJRJ3JIKNDB7.gfortran-win_amd64.dll\n",
      "c:\\Users\\86177\\Anaconda3\\lib\\site-packages\\numpy\\.libs\\libopenblas.XWYDX2IKJW2NMTWSFYNGFUWKQU3LYTCZ.gfortran-win_amd64.dll\n",
      "  stacklevel=1)\n"
     ]
    }
   ],
   "source": [
    "import pandas as pd\n",
    "import numpy as np\n",
    "from sklearn.metrics import classification_report\n",
    "from sklearn.metrics import f1_score"
   ]
  },
  {
   "cell_type": "code",
   "execution_count": 2,
   "metadata": {},
   "outputs": [
    {
     "data": {
      "text/html": [
       "<div>\n",
       "<style scoped>\n",
       "    .dataframe tbody tr th:only-of-type {\n",
       "        vertical-align: middle;\n",
       "    }\n",
       "\n",
       "    .dataframe tbody tr th {\n",
       "        vertical-align: top;\n",
       "    }\n",
       "\n",
       "    .dataframe thead th {\n",
       "        text-align: right;\n",
       "    }\n",
       "</style>\n",
       "<table border=\"1\" class=\"dataframe\">\n",
       "  <thead>\n",
       "    <tr style=\"text-align: right;\">\n",
       "      <th></th>\n",
       "      <th>age</th>\n",
       "      <th>job</th>\n",
       "      <th>marital</th>\n",
       "      <th>education</th>\n",
       "      <th>default</th>\n",
       "      <th>housing</th>\n",
       "      <th>loan</th>\n",
       "      <th>contact</th>\n",
       "      <th>month</th>\n",
       "      <th>day_of_week</th>\n",
       "      <th>...</th>\n",
       "      <th>campaign</th>\n",
       "      <th>pdays</th>\n",
       "      <th>previous</th>\n",
       "      <th>poutcome</th>\n",
       "      <th>emp.var.rate</th>\n",
       "      <th>cons.price.idx</th>\n",
       "      <th>cons.conf.idx</th>\n",
       "      <th>euribor3m</th>\n",
       "      <th>nr.employed</th>\n",
       "      <th>y</th>\n",
       "    </tr>\n",
       "  </thead>\n",
       "  <tbody>\n",
       "    <tr>\n",
       "      <th>0</th>\n",
       "      <td>56</td>\n",
       "      <td>housemaid</td>\n",
       "      <td>married</td>\n",
       "      <td>basic.4y</td>\n",
       "      <td>no</td>\n",
       "      <td>no</td>\n",
       "      <td>no</td>\n",
       "      <td>telephone</td>\n",
       "      <td>may</td>\n",
       "      <td>mon</td>\n",
       "      <td>...</td>\n",
       "      <td>1</td>\n",
       "      <td>999</td>\n",
       "      <td>0</td>\n",
       "      <td>nonexistent</td>\n",
       "      <td>1.1</td>\n",
       "      <td>93.994</td>\n",
       "      <td>-36.4</td>\n",
       "      <td>4.857</td>\n",
       "      <td>5191.0</td>\n",
       "      <td>no</td>\n",
       "    </tr>\n",
       "    <tr>\n",
       "      <th>1</th>\n",
       "      <td>57</td>\n",
       "      <td>services</td>\n",
       "      <td>married</td>\n",
       "      <td>high.school</td>\n",
       "      <td>unknown</td>\n",
       "      <td>no</td>\n",
       "      <td>no</td>\n",
       "      <td>telephone</td>\n",
       "      <td>may</td>\n",
       "      <td>mon</td>\n",
       "      <td>...</td>\n",
       "      <td>1</td>\n",
       "      <td>999</td>\n",
       "      <td>0</td>\n",
       "      <td>nonexistent</td>\n",
       "      <td>1.1</td>\n",
       "      <td>93.994</td>\n",
       "      <td>-36.4</td>\n",
       "      <td>4.857</td>\n",
       "      <td>5191.0</td>\n",
       "      <td>no</td>\n",
       "    </tr>\n",
       "    <tr>\n",
       "      <th>2</th>\n",
       "      <td>37</td>\n",
       "      <td>services</td>\n",
       "      <td>married</td>\n",
       "      <td>high.school</td>\n",
       "      <td>no</td>\n",
       "      <td>yes</td>\n",
       "      <td>no</td>\n",
       "      <td>telephone</td>\n",
       "      <td>may</td>\n",
       "      <td>mon</td>\n",
       "      <td>...</td>\n",
       "      <td>1</td>\n",
       "      <td>999</td>\n",
       "      <td>0</td>\n",
       "      <td>nonexistent</td>\n",
       "      <td>1.1</td>\n",
       "      <td>93.994</td>\n",
       "      <td>-36.4</td>\n",
       "      <td>4.857</td>\n",
       "      <td>5191.0</td>\n",
       "      <td>no</td>\n",
       "    </tr>\n",
       "    <tr>\n",
       "      <th>3</th>\n",
       "      <td>40</td>\n",
       "      <td>admin.</td>\n",
       "      <td>married</td>\n",
       "      <td>basic.6y</td>\n",
       "      <td>no</td>\n",
       "      <td>no</td>\n",
       "      <td>no</td>\n",
       "      <td>telephone</td>\n",
       "      <td>may</td>\n",
       "      <td>mon</td>\n",
       "      <td>...</td>\n",
       "      <td>1</td>\n",
       "      <td>999</td>\n",
       "      <td>0</td>\n",
       "      <td>nonexistent</td>\n",
       "      <td>1.1</td>\n",
       "      <td>93.994</td>\n",
       "      <td>-36.4</td>\n",
       "      <td>4.857</td>\n",
       "      <td>5191.0</td>\n",
       "      <td>no</td>\n",
       "    </tr>\n",
       "    <tr>\n",
       "      <th>4</th>\n",
       "      <td>56</td>\n",
       "      <td>services</td>\n",
       "      <td>married</td>\n",
       "      <td>high.school</td>\n",
       "      <td>no</td>\n",
       "      <td>no</td>\n",
       "      <td>yes</td>\n",
       "      <td>telephone</td>\n",
       "      <td>may</td>\n",
       "      <td>mon</td>\n",
       "      <td>...</td>\n",
       "      <td>1</td>\n",
       "      <td>999</td>\n",
       "      <td>0</td>\n",
       "      <td>nonexistent</td>\n",
       "      <td>1.1</td>\n",
       "      <td>93.994</td>\n",
       "      <td>-36.4</td>\n",
       "      <td>4.857</td>\n",
       "      <td>5191.0</td>\n",
       "      <td>no</td>\n",
       "    </tr>\n",
       "  </tbody>\n",
       "</table>\n",
       "<p>5 rows × 21 columns</p>\n",
       "</div>"
      ],
      "text/plain": [
       "   age        job  marital    education  default housing loan    contact  \\\n",
       "0   56  housemaid  married     basic.4y       no      no   no  telephone   \n",
       "1   57   services  married  high.school  unknown      no   no  telephone   \n",
       "2   37   services  married  high.school       no     yes   no  telephone   \n",
       "3   40     admin.  married     basic.6y       no      no   no  telephone   \n",
       "4   56   services  married  high.school       no      no  yes  telephone   \n",
       "\n",
       "  month day_of_week  ...  campaign  pdays  previous     poutcome emp.var.rate  \\\n",
       "0   may         mon  ...         1    999         0  nonexistent          1.1   \n",
       "1   may         mon  ...         1    999         0  nonexistent          1.1   \n",
       "2   may         mon  ...         1    999         0  nonexistent          1.1   \n",
       "3   may         mon  ...         1    999         0  nonexistent          1.1   \n",
       "4   may         mon  ...         1    999         0  nonexistent          1.1   \n",
       "\n",
       "   cons.price.idx  cons.conf.idx  euribor3m  nr.employed   y  \n",
       "0          93.994          -36.4      4.857       5191.0  no  \n",
       "1          93.994          -36.4      4.857       5191.0  no  \n",
       "2          93.994          -36.4      4.857       5191.0  no  \n",
       "3          93.994          -36.4      4.857       5191.0  no  \n",
       "4          93.994          -36.4      4.857       5191.0  no  \n",
       "\n",
       "[5 rows x 21 columns]"
      ]
     },
     "execution_count": 2,
     "metadata": {},
     "output_type": "execute_result"
    }
   ],
   "source": [
    "bank_data = pd.read_csv(\"Proj1/data/bank-additional-full.csv\",sep=\";\")\n",
    "bank_data.head()"
   ]
  },
  {
   "cell_type": "code",
   "execution_count": 3,
   "metadata": {},
   "outputs": [],
   "source": [
    "import matplotlib.pyplot as plt\n",
    "\n",
    "qt_cols = bank_data.select_dtypes(include=['int64', 'float64']).columns\n",
    "ql_cols = bank_data.iloc[:,:-1].select_dtypes(include=['object']).columns"
   ]
  },
  {
   "cell_type": "code",
   "execution_count": 4,
   "metadata": {},
   "outputs": [],
   "source": [
    "new_table = bank_data"
   ]
  },
  {
   "cell_type": "code",
   "execution_count": 5,
   "metadata": {},
   "outputs": [],
   "source": [
    "new_table = new_table[(new_table[\"education\"]!=\"unknown\") &\\\n",
    "                      (new_table[\"housing\"]!=\"unknown\")&\\\n",
    "                      (new_table[\"job\"]!=\"unknown\")&(new_table[\"marital\"]!=\"unknown\")]"
   ]
  },
  {
   "cell_type": "code",
   "execution_count": 6,
   "metadata": {},
   "outputs": [],
   "source": [
    "new_table = new_table[new_table[\"duration\"]!=0]"
   ]
  },
  {
   "cell_type": "code",
   "execution_count": 7,
   "metadata": {},
   "outputs": [],
   "source": [
    "X = new_table[qt_cols]\n",
    "for col in ql_cols:\n",
    "    X = pd.concat([X, pd.get_dummies(new_table[col], prefix=col).iloc[:,:-1]], axis = 1)\n",
    "\n",
    "y = new_table.iloc[:,-1].map({'yes':1, 'no':0})"
   ]
  },
  {
   "cell_type": "code",
   "execution_count": 8,
   "metadata": {},
   "outputs": [],
   "source": [
    "from sklearn.model_selection import train_test_split\n",
    "X_train, X_test, y_train, y_test = train_test_split(X, y, test_size=0.2, random_state=42)\n",
    "\n",
    "feature_list = [X.columns]"
   ]
  },
  {
   "cell_type": "code",
   "execution_count": 48,
   "metadata": {},
   "outputs": [
    {
     "data": {
      "text/plain": [
       "Index(['age', 'duration', 'campaign', 'pdays', 'previous', 'emp.var.rate',\n",
       "       'cons.price.idx', 'cons.conf.idx', 'euribor3m', 'nr.employed',\n",
       "       'job_admin.', 'job_blue-collar', 'job_entrepreneur', 'job_housemaid',\n",
       "       'job_management', 'job_retired', 'job_self-employed', 'job_services',\n",
       "       'job_student', 'job_technician', 'marital_divorced', 'marital_married',\n",
       "       'education_basic.4y', 'education_basic.6y', 'education_basic.9y',\n",
       "       'education_high.school', 'education_illiterate',\n",
       "       'education_professional.course', 'default_no', 'default_unknown',\n",
       "       'housing_no', 'loan_no', 'contact_cellular', 'month_apr', 'month_aug',\n",
       "       'month_dec', 'month_jul', 'month_jun', 'month_mar', 'month_may',\n",
       "       'month_nov', 'month_oct', 'day_of_week_fri', 'day_of_week_mon',\n",
       "       'day_of_week_thu', 'day_of_week_tue', 'poutcome_failure',\n",
       "       'poutcome_nonexistent'],\n",
       "      dtype='object')"
      ]
     },
     "execution_count": 48,
     "metadata": {},
     "output_type": "execute_result"
    }
   ],
   "source": [
    "X_train.columns"
   ]
  },
  {
   "cell_type": "code",
   "execution_count": 60,
   "metadata": {},
   "outputs": [
    {
     "name": "stdout",
     "output_type": "stream",
     "text": [
      "1.6007812023162842\n"
     ]
    },
    {
     "data": {
      "text/plain": [
       "0.913797611784189"
      ]
     },
     "execution_count": 60,
     "metadata": {},
     "output_type": "execute_result"
    }
   ],
   "source": [
    "from sklearn.metrics import recall_score\n",
    "from sklearn.metrics import accuracy_score\n",
    "import xgboost\n",
    "import time\n",
    "\n",
    "# Training the XGboost model\n",
    "xgb_classifier = xgboost.XGBClassifier(use_label_encoder = False, eval_metric = 'logloss')\n",
    "# Start the timer\n",
    "start_time = time.time()\n",
    "xgb_classifier.fit(X_train, y_train)\n",
    "print(time.time()-start_time)\n",
    "# Predictions and evaluation\n",
    "y_pred = xgb_classifier.predict(X_test)\n",
    "accuracy = accuracy_score(y_test, y_pred)\n",
    "\n",
    "accuracy \n"
   ]
  },
  {
   "cell_type": "code",
   "execution_count": 50,
   "metadata": {},
   "outputs": [
    {
     "data": {
      "text/plain": [
       "0.5320197044334976"
      ]
     },
     "execution_count": 50,
     "metadata": {},
     "output_type": "execute_result"
    }
   ],
   "source": [
    "# Calculating recall score\n",
    "recall = recall_score(y_test, y_pred)\n",
    "\n",
    "recall"
   ]
  },
  {
   "cell_type": "code",
   "execution_count": 51,
   "metadata": {},
   "outputs": [
    {
     "data": {
      "text/plain": [
       "0.6506024096385542"
      ]
     },
     "execution_count": 51,
     "metadata": {},
     "output_type": "execute_result"
    }
   ],
   "source": [
    "from sklearn.metrics import precision_score\n",
    "precision_score(y_test, y_pred)"
   ]
  },
  {
   "cell_type": "code",
   "execution_count": 52,
   "metadata": {},
   "outputs": [
    {
     "name": "stdout",
     "output_type": "stream",
     "text": [
      "              precision    recall  f1-score   support\n",
      "\n",
      "           0       0.95      0.97      0.96      6837\n",
      "           1       0.65      0.53      0.59       812\n",
      "\n",
      "    accuracy                           0.92      7649\n",
      "   macro avg       0.80      0.75      0.77      7649\n",
      "weighted avg       0.91      0.92      0.92      7649\n",
      "\n"
     ]
    }
   ],
   "source": [
    "print(classification_report(y_test, y_pred))"
   ]
  },
  {
   "cell_type": "code",
   "execution_count": 12,
   "metadata": {},
   "outputs": [],
   "source": [
    "from sklearn.decomposition import PCA\n",
    "from sklearn.model_selection import train_test_split\n",
    "from sklearn.ensemble import RandomForestClassifier\n",
    "from sklearn.metrics import accuracy_score, classification_report\n",
    "\n",
    "# Apply PCA\n",
    "pca = PCA()\n",
    "X_pca = pca.fit_transform(X)\n",
    "\n",
    "# Explained variance ratio\n",
    "explained_variance = pca.explained_variance_ratio_\n",
    "\n",
    "# Calculate cumulative variance\n",
    "cumulative_variance = np.cumsum(explained_variance)\n",
    "\n",
    "# Determine the number of components to reach at least 95% of explained variance\n",
    "n_components = np.where(cumulative_variance >= 0.95)[0][0] + 1"
   ]
  },
  {
   "cell_type": "code",
   "execution_count": 54,
   "metadata": {},
   "outputs": [
    {
     "data": {
      "text/plain": [
       "0     0.633636\n",
       "1     0.957881\n",
       "2     0.998697\n",
       "3     0.999692\n",
       "4     0.999883\n",
       "5     0.999953\n",
       "6     0.999961\n",
       "7     0.999965\n",
       "8     0.999967\n",
       "9     0.999970\n",
       "10    0.999972\n",
       "11    0.999975\n",
       "12    0.999977\n",
       "13    0.999979\n",
       "14    0.999981\n",
       "15    0.999983\n",
       "16    0.999985\n",
       "17    0.999986\n",
       "18    0.999988\n",
       "19    0.999989\n",
       "20    0.999991\n",
       "21    0.999992\n",
       "22    0.999993\n",
       "23    0.999994\n",
       "24    0.999994\n",
       "25    0.999995\n",
       "26    0.999996\n",
       "27    0.999996\n",
       "28    0.999997\n",
       "29    0.999997\n",
       "30    0.999998\n",
       "31    0.999998\n",
       "32    0.999998\n",
       "33    0.999999\n",
       "34    0.999999\n",
       "35    0.999999\n",
       "36    0.999999\n",
       "37    1.000000\n",
       "38    1.000000\n",
       "39    1.000000\n",
       "40    1.000000\n",
       "41    1.000000\n",
       "42    1.000000\n",
       "43    1.000000\n",
       "44    1.000000\n",
       "45    1.000000\n",
       "46    1.000000\n",
       "47    1.000000\n",
       "dtype: float64"
      ]
     },
     "execution_count": 54,
     "metadata": {},
     "output_type": "execute_result"
    }
   ],
   "source": [
    "pd.Series(cumulative_variance)"
   ]
  },
  {
   "cell_type": "code",
   "execution_count": 55,
   "metadata": {
    "scrolled": true
   },
   "outputs": [
    {
     "data": {
      "text/plain": [
       "(2, 0.913797611784189)"
      ]
     },
     "execution_count": 55,
     "metadata": {},
     "output_type": "execute_result"
    }
   ],
   "source": [
    "# Reduce the dataset dimensions with PCA to the selected number of components\n",
    "pca_reduced = PCA(n_components=n_components)\n",
    "X_pca_reduced = pca_reduced.fit_transform(X)\n",
    "\n",
    "# Split the data into training and testing sets\n",
    "X_train, X_test, y_train, y_test = train_test_split(X_pca_reduced, y, test_size=0.3, random_state=42)\n",
    "\n",
    "xgb_classifier = xgboost.XGBClassifier(use_label_encoder = False, eval_metric = 'logloss')\n",
    "xgb_classifier.fit(X_train, y_train)\n",
    "# Predictions and evaluation\n",
    "y_pred = xgb_classifier.predict(X_test)\n",
    "accuracy = accuracy_score(y_test, y_pred)\n",
    "\n",
    "\n",
    "classification_rep = classification_report(y_test, y_pred)\n",
    "\n",
    "n_components, accuracy"
   ]
  },
  {
   "cell_type": "code",
   "execution_count": 56,
   "metadata": {},
   "outputs": [
    {
     "name": "stdout",
     "output_type": "stream",
     "text": [
      "              precision    recall  f1-score   support\n",
      "\n",
      "           0       0.94      0.97      0.95     10216\n",
      "           1       0.65      0.47      0.54      1257\n",
      "\n",
      "    accuracy                           0.91     11473\n",
      "   macro avg       0.79      0.72      0.75     11473\n",
      "weighted avg       0.91      0.91      0.91     11473\n",
      "\n"
     ]
    }
   ],
   "source": [
    "print(classification_rep)"
   ]
  },
  {
   "cell_type": "code",
   "execution_count": 57,
   "metadata": {},
   "outputs": [
    {
     "name": "stdout",
     "output_type": "stream",
     "text": [
      "Fitting 3 folds for each of 9 candidates, totalling 27 fits\n",
      "[CV] END .......................max_depth=3, n_estimators=50; total time=   0.3s\n",
      "[CV] END .......................max_depth=3, n_estimators=50; total time=   0.2s\n",
      "[CV] END .......................max_depth=3, n_estimators=50; total time=   0.3s\n",
      "[CV] END ......................max_depth=3, n_estimators=100; total time=   0.4s\n",
      "[CV] END ......................max_depth=3, n_estimators=100; total time=   0.5s\n",
      "[CV] END ......................max_depth=3, n_estimators=100; total time=   0.5s\n",
      "[CV] END ......................max_depth=3, n_estimators=200; total time=   1.0s\n",
      "[CV] END ......................max_depth=3, n_estimators=200; total time=   1.0s\n",
      "[CV] END ......................max_depth=3, n_estimators=200; total time=   1.0s\n",
      "[CV] END .......................max_depth=6, n_estimators=50; total time=   0.4s\n",
      "[CV] END .......................max_depth=6, n_estimators=50; total time=   0.4s\n",
      "[CV] END .......................max_depth=6, n_estimators=50; total time=   0.4s\n",
      "[CV] END ......................max_depth=6, n_estimators=100; total time=   0.9s\n",
      "[CV] END ......................max_depth=6, n_estimators=100; total time=   0.9s\n",
      "[CV] END ......................max_depth=6, n_estimators=100; total time=   0.9s\n",
      "[CV] END ......................max_depth=6, n_estimators=200; total time=   1.9s\n",
      "[CV] END ......................max_depth=6, n_estimators=200; total time=   1.9s\n",
      "[CV] END ......................max_depth=6, n_estimators=200; total time=   1.9s\n",
      "[CV] END .......................max_depth=9, n_estimators=50; total time=   0.6s\n",
      "[CV] END .......................max_depth=9, n_estimators=50; total time=   0.6s\n",
      "[CV] END .......................max_depth=9, n_estimators=50; total time=   0.6s\n",
      "[CV] END ......................max_depth=9, n_estimators=100; total time=   1.3s\n",
      "[CV] END ......................max_depth=9, n_estimators=100; total time=   1.4s\n",
      "[CV] END ......................max_depth=9, n_estimators=100; total time=   1.3s\n",
      "[CV] END ......................max_depth=9, n_estimators=200; total time=   3.0s\n",
      "[CV] END ......................max_depth=9, n_estimators=200; total time=   3.1s\n",
      "[CV] END ......................max_depth=9, n_estimators=200; total time=   3.0s\n",
      "Best parameters: {'max_depth': 3, 'n_estimators': 50}\n",
      "Best cross-validation score: 0.91\n",
      "Test set accuracy: 0.92\n"
     ]
    }
   ],
   "source": [
    "from sklearn.model_selection import GridSearchCV\n",
    "from sklearn.datasets import load_breast_cancer\n",
    "from sklearn.model_selection import train_test_split\n",
    "\n",
    "xgb_classifier = xgboost.XGBClassifier(use_label_encoder=False, \n",
    "                                       eval_metric='logloss')\n",
    "\n",
    "# Create a GridSearchCV object\n",
    "param_grid = {\n",
    "    'n_estimators': [50, 100, 200],\n",
    "    'max_depth': [3, 6, 9]\n",
    "}\n",
    "\n",
    "grid_search = GridSearchCV(estimator=xgb_classifier, \n",
    "                           param_grid=param_grid, \n",
    "                           cv=3, \n",
    "                           scoring='accuracy', \n",
    "                           verbose=2)\n",
    "\n",
    "# Fit GridSearchCV\n",
    "grid_search.fit(X_train, y_train)\n",
    "\n",
    "# Print the best parameters and the best score\n",
    "print(\"Best parameters:\", grid_search.best_params_)\n",
    "print(\"Best cross-validation score: {:.2f}\".format(grid_search.best_score_))\n",
    "\n",
    "# Use the best estimator and the best score\n",
    "accuracy = grid_search.score(X_test, y_test)\n",
    "print(\"Test set accuracy: {:.2f}\".format(accuracy))"
   ]
  },
  {
   "cell_type": "code",
   "execution_count": 59,
   "metadata": {},
   "outputs": [
    {
     "name": "stdout",
     "output_type": "stream",
     "text": [
      "Training time: 0.45 seconds\n",
      "              precision    recall  f1-score   support\n",
      "\n",
      "           0       0.94      0.97      0.95     10216\n",
      "           1       0.66      0.48      0.55      1257\n",
      "\n",
      "    accuracy                           0.92     11473\n",
      "   macro avg       0.80      0.72      0.75     11473\n",
      "weighted avg       0.91      0.92      0.91     11473\n",
      "\n"
     ]
    }
   ],
   "source": [
    "import time\n",
    "xgb_classifier = xgboost.XGBClassifier(use_label_encoder = False, eval_metric = 'logloss', n_estimators = 50, max_depth = 3)\n",
    "\n",
    "# Start the timer\n",
    "start_time = time.time()\n",
    "\n",
    "# Fit the model\n",
    "xgb_classifier.fit(X_train, y_train)\n",
    "\n",
    "# Measure the duration\n",
    "duration = time.time() - start_time\n",
    "print(f\"Training time: {duration:.2f} seconds\")\n",
    "\n",
    "# Predictions and evaluation\n",
    "y_pred = xgb_classifier.predict(X_test)\n",
    "accuracy = accuracy_score(y_test, y_pred)\n",
    "\n",
    "\n",
    "classification_rep = classification_report(y_test, y_pred)\n",
    "print(classification_rep)"
   ]
  }
 ],
 "metadata": {
  "kernelspec": {
   "display_name": "Python 3 (ipykernel)",
   "language": "python",
   "name": "python3"
  },
  "language_info": {
   "codemirror_mode": {
    "name": "ipython",
    "version": 3
   },
   "file_extension": ".py",
   "mimetype": "text/x-python",
   "name": "python",
   "nbconvert_exporter": "python",
   "pygments_lexer": "ipython3",
   "version": "3.7.4"
  }
 },
 "nbformat": 4,
 "nbformat_minor": 2
}
